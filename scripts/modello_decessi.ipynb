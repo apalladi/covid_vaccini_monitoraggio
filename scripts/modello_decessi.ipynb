{
 "cells": [
  {
   "cell_type": "markdown",
   "metadata": {},
   "source": [
    "### Importa librerie"
   ]
  },
  {
   "cell_type": "code",
   "execution_count": 1,
   "metadata": {
    "id": "JP8AO1_VKGTb"
   },
   "outputs": [],
   "source": [
    "import numpy as np\n",
    "import matplotlib.pyplot as plt\n",
    "import pandas as pd\n",
    "from adjustText import adjust_text\n",
    "from custom.watermarks import add_watermark"
   ]
  },
  {
   "cell_type": "markdown",
   "metadata": {},
   "source": [
    "### Definizione funzioni"
   ]
  },
  {
   "cell_type": "code",
   "execution_count": 2,
   "metadata": {
    "tags": []
   },
   "outputs": [],
   "source": [
    "def get_vaccine_data(country, time_window=30, fully=False):\n",
    "    \"\"\" Recupera dati sulla frazione di vaccinati medi negli ultimi time_window giorni (default = 30)\"\"\"\n",
    "    df_vacc_country2 = df_global[df_global[\"location\"] == country]\n",
    "    df_vacc_country = df_vacc_country2.fillna(method='ffill').copy()\n",
    "    if fully==False:\n",
    "        vacc_fully = np.array(df_vacc_country[\"people_vaccinated_per_hundred\"][-(time_window+1):-1])\n",
    "    else:\n",
    "        vacc_fully = np.array(df_vacc_country[\"people_fully_vaccinated_per_hundred\"][-(time_window+1):-1])\n",
    "    \n",
    "    vacc_ultimi_Ngiorni = np.mean(vacc_fully)   \n",
    "    return vacc_ultimi_Ngiorni\n",
    "\n",
    "def get_deaths(country, time_window=30):\n",
    "    \"\"\" Recupera dati sul numero assoluto di decessi negli ultimi time_window giorni (default = 30)\"\"\"\n",
    "    decessi = np.array(df_global[df_global[\"location\"] == country]['total_deaths'])\n",
    "    decessi_ultimi_Ngiorni = decessi[-1] - decessi[-(time_window+1)]\n",
    "    return decessi_ultimi_Ngiorni\n",
    "\n",
    "def get_value_from_df(countries, column, scale_factor=1):\n",
    "    \"\"\" Recupera l'ultimo valore della column specificata, per la lista di countries, e moltiplica per scale_factor (default = 1)\"\"\"\n",
    "    values = []\n",
    "    for el in countries:\n",
    "         values.append(df_global[df_global[\"location\"] == el][column].tolist()[-1]*scale_factor)\n",
    "    return values"
   ]
  },
  {
   "cell_type": "markdown",
   "metadata": {
    "tags": []
   },
   "source": [
    "### Importa dati da Our World in Data"
   ]
  },
  {
   "cell_type": "code",
   "execution_count": 3,
   "metadata": {},
   "outputs": [],
   "source": [
    "file_owid = 'https://covid.ourworldindata.org/data/owid-covid-data.csv'\n",
    "df_global = pd.read_csv(file_owid)"
   ]
  },
  {
   "cell_type": "code",
   "execution_count": 4,
   "metadata": {},
   "outputs": [],
   "source": [
    "# Dataframe solo per paesi europei\n",
    "eu_countries = ['Austria', 'Belgium', 'Bulgaria', 'Croatia', 'Cyprus', 'Czechia', 'Denmark', 'Estonia', 'Finland', \n",
    "                'France', 'Germany', 'Greece', 'Hungary', 'Ireland', 'Italy', 'Latvia', 'Lithuania', 'Luxembourg', \n",
    "                'Malta', 'Netherlands', 'Poland', 'Portugal', 'Romania', 'Slovakia', 'Slovenia', 'Spain', 'Sweden']\n",
    "df_europe = df_global.loc[df_global['location'].isin(eu_countries)]"
   ]
  },
  {
   "cell_type": "markdown",
   "metadata": {
    "id": "qQkoPX-9NFRz"
   },
   "source": [
    "### Calcola morti e vaccinati"
   ]
  },
  {
   "cell_type": "code",
   "execution_count": 5,
   "metadata": {
    "id": "j4epHZfGLw9O"
   },
   "outputs": [],
   "source": [
    "# Definizione paesi e relative label\n",
    "paesi = eu_countries\n",
    "paesi_label = ['Austria', 'Belgio', 'Bulgaria', 'Croazia', 'Cipro', 'Repubblica Ceca', 'Danimarca', 'Estonia', 'Finlandia', \n",
    "                'Francia', 'Germania', 'Grecia', 'Ungheria', 'Irlanda', 'Italia', 'Lettonia', 'Lituania', 'Lussemburgo', \n",
    "                'Malta', 'Paesi Bassi', 'Polonia', 'Portogallo', 'Romania', 'Slovacchia', 'Slovenia', 'Spagna', 'Svezia']\n",
    "\n",
    "# Calcola vaccinati e decessi\n",
    "abitanti = get_value_from_df(paesi, 'population', scale_factor=1e-6)\n",
    "\n",
    "# Crea dizionario\n",
    "abitanti_dict = dict(zip(paesi, abitanti))"
   ]
  },
  {
   "cell_type": "code",
   "execution_count": 6,
   "metadata": {
    "id": "j4epHZfGLw9O"
   },
   "outputs": [],
   "source": [
    "dec_res=[] # Decessi per milione di abitanti ultimi tw_death giorni\n",
    "vacc_res=[] # % vaccinati media ultimi tw_vacc giorni\n",
    "\n",
    "tw_death = 30\n",
    "tw_vacc = 30\n",
    "for i in range(len(paesi)):\n",
    "    vacc_res.append(get_vaccine_data(paesi[i], time_window = tw_vacc, fully=True))\n",
    "    dec_res.append(get_deaths(paesi[i], time_window = tw_death)/abitanti_dict[paesi[i]])"
   ]
  },
  {
   "cell_type": "markdown",
   "metadata": {},
   "source": [
    "### Aggiungi altre grandezze"
   ]
  },
  {
   "cell_type": "code",
   "execution_count": 7,
   "metadata": {},
   "outputs": [],
   "source": [
    "# Definisci dati estratti da df_europe\n",
    "columns = ['gdp_per_capita', \n",
    "           'population_density', \n",
    "           'aged_70_older', \n",
    "           'extreme_poverty', \n",
    "           'diabetes_prevalence', \n",
    "           'hospital_beds_per_thousand', \n",
    "           'life_expectancy', \n",
    "          ]"
   ]
  },
  {
   "cell_type": "code",
   "execution_count": 8,
   "metadata": {},
   "outputs": [],
   "source": [
    "data_for_model = []\n",
    "\n",
    "# Estrai dati da df_europe e aggiungili a data_for_model\n",
    "for el in columns:\n",
    "    data_for_model.append(get_value_from_df(paesi, el))\n",
    "\n",
    "# Aggiungi manualmente dati di latitudine, vaccinati, morti\n",
    "latitude = [47.516231, 50.503887, 42.733883, 45.1, 35.126413, 49.817492, 56.26392, 58.595272, 61.92411, 46.227638, 51.165691, 39.074208, 47.162494, 53.41291, 41.87194, 56.879635, 55.169438, 49.815273, 35.937496, 52.132633, 51.919438, 39.399872, 45.943161, 48.669026, 46.151241, 40.463667, 60.128161]\n",
    "data_for_model.append(vacc_res)\n",
    "data_for_model.append(latitude)    \n",
    "data_for_model.append(dec_res)\n",
    "\n",
    "# Aggiungi manualmente colonne di latitudine, vaccinati, morti\n",
    "columns.append(f'Perc_vacc_last_{tw_vacc}_days')\n",
    "columns.append('latitude')    \n",
    "columns.append(f'Deaths_last_{tw_death}_days')\n",
    "\n",
    "# Trasponi data_for_model\n",
    "data_for_model = list(map(list, zip(*data_for_model)))"
   ]
  },
  {
   "cell_type": "markdown",
   "metadata": {},
   "source": [
    "### Crea DataFrame"
   ]
  },
  {
   "cell_type": "code",
   "execution_count": 9,
   "metadata": {},
   "outputs": [
    {
     "data": {
      "text/html": [
       "<div>\n",
       "<style scoped>\n",
       "    .dataframe tbody tr th:only-of-type {\n",
       "        vertical-align: middle;\n",
       "    }\n",
       "\n",
       "    .dataframe tbody tr th {\n",
       "        vertical-align: top;\n",
       "    }\n",
       "\n",
       "    .dataframe thead th {\n",
       "        text-align: right;\n",
       "    }\n",
       "</style>\n",
       "<table border=\"1\" class=\"dataframe\">\n",
       "  <thead>\n",
       "    <tr style=\"text-align: right;\">\n",
       "      <th></th>\n",
       "      <th>gdp_per_capita</th>\n",
       "      <th>population_density</th>\n",
       "      <th>aged_70_older</th>\n",
       "      <th>extreme_poverty</th>\n",
       "      <th>diabetes_prevalence</th>\n",
       "      <th>hospital_beds_per_thousand</th>\n",
       "      <th>life_expectancy</th>\n",
       "      <th>Perc_vacc_last_30_days</th>\n",
       "      <th>latitude</th>\n",
       "      <th>Deaths_last_30_days</th>\n",
       "    </tr>\n",
       "    <tr>\n",
       "      <th>Country</th>\n",
       "      <th></th>\n",
       "      <th></th>\n",
       "      <th></th>\n",
       "      <th></th>\n",
       "      <th></th>\n",
       "      <th></th>\n",
       "      <th></th>\n",
       "      <th></th>\n",
       "      <th></th>\n",
       "      <th></th>\n",
       "    </tr>\n",
       "  </thead>\n",
       "  <tbody>\n",
       "    <tr>\n",
       "      <th>Austria</th>\n",
       "      <td>45436.69</td>\n",
       "      <td>106.75</td>\n",
       "      <td>13.75</td>\n",
       "      <td>0.7</td>\n",
       "      <td>6.35</td>\n",
       "      <td>7.37</td>\n",
       "      <td>81.54</td>\n",
       "      <td>62.12</td>\n",
       "      <td>47.52</td>\n",
       "      <td>60.38</td>\n",
       "    </tr>\n",
       "    <tr>\n",
       "      <th>Belgio</th>\n",
       "      <td>42658.58</td>\n",
       "      <td>375.56</td>\n",
       "      <td>12.85</td>\n",
       "      <td>0.2</td>\n",
       "      <td>4.29</td>\n",
       "      <td>5.64</td>\n",
       "      <td>81.63</td>\n",
       "      <td>73.65</td>\n",
       "      <td>50.50</td>\n",
       "      <td>50.63</td>\n",
       "    </tr>\n",
       "    <tr>\n",
       "      <th>Bulgaria</th>\n",
       "      <td>18563.31</td>\n",
       "      <td>65.18</td>\n",
       "      <td>13.27</td>\n",
       "      <td>1.5</td>\n",
       "      <td>5.81</td>\n",
       "      <td>7.45</td>\n",
       "      <td>75.05</td>\n",
       "      <td>21.57</td>\n",
       "      <td>42.73</td>\n",
       "      <td>592.90</td>\n",
       "    </tr>\n",
       "    <tr>\n",
       "      <th>Croazia</th>\n",
       "      <td>22669.80</td>\n",
       "      <td>73.73</td>\n",
       "      <td>13.05</td>\n",
       "      <td>0.7</td>\n",
       "      <td>5.59</td>\n",
       "      <td>5.54</td>\n",
       "      <td>78.49</td>\n",
       "      <td>43.90</td>\n",
       "      <td>45.10</td>\n",
       "      <td>243.28</td>\n",
       "    </tr>\n",
       "    <tr>\n",
       "      <th>Cipro</th>\n",
       "      <td>32415.13</td>\n",
       "      <td>127.66</td>\n",
       "      <td>8.56</td>\n",
       "      <td>NaN</td>\n",
       "      <td>9.24</td>\n",
       "      <td>3.40</td>\n",
       "      <td>80.98</td>\n",
       "      <td>63.52</td>\n",
       "      <td>35.13</td>\n",
       "      <td>30.13</td>\n",
       "    </tr>\n",
       "  </tbody>\n",
       "</table>\n",
       "</div>"
      ],
      "text/plain": [
       "          gdp_per_capita  population_density  aged_70_older  extreme_poverty  \\\n",
       "Country                                                                        \n",
       "Austria         45436.69              106.75          13.75              0.7   \n",
       "Belgio          42658.58              375.56          12.85              0.2   \n",
       "Bulgaria        18563.31               65.18          13.27              1.5   \n",
       "Croazia         22669.80               73.73          13.05              0.7   \n",
       "Cipro           32415.13              127.66           8.56              NaN   \n",
       "\n",
       "          diabetes_prevalence  hospital_beds_per_thousand  life_expectancy  \\\n",
       "Country                                                                      \n",
       "Austria                  6.35                        7.37            81.54   \n",
       "Belgio                   4.29                        5.64            81.63   \n",
       "Bulgaria                 5.81                        7.45            75.05   \n",
       "Croazia                  5.59                        5.54            78.49   \n",
       "Cipro                    9.24                        3.40            80.98   \n",
       "\n",
       "          Perc_vacc_last_30_days  latitude  Deaths_last_30_days  \n",
       "Country                                                          \n",
       "Austria                    62.12     47.52                60.38  \n",
       "Belgio                     73.65     50.50                50.63  \n",
       "Bulgaria                   21.57     42.73               592.90  \n",
       "Croazia                    43.90     45.10               243.28  \n",
       "Cipro                      63.52     35.13                30.13  "
      ]
     },
     "execution_count": 9,
     "metadata": {},
     "output_type": "execute_result"
    }
   ],
   "source": [
    "df_europe_small = pd.DataFrame(data_for_model, columns=columns).round(decimals=2)\n",
    "\n",
    "# Aggiungi colonna 'Country' e rendila indice\n",
    "df_europe_small = df_europe_small.assign(Country=pd.Series(paesi_label).values)\n",
    "df_europe_small.set_index('Country', inplace=True)\n",
    "df_europe_small.head()"
   ]
  },
  {
   "cell_type": "markdown",
   "metadata": {},
   "source": [
    "### Matrice di correlazione"
   ]
  },
  {
   "cell_type": "code",
   "execution_count": 10,
   "metadata": {
    "tags": []
   },
   "outputs": [
    {
     "data": {
      "text/html": [
       "<style  type=\"text/css\" >\n",
       "#T_8f0c7_row0_col0,#T_8f0c7_row0_col1,#T_8f0c7_row0_col2,#T_8f0c7_row0_col3,#T_8f0c7_row0_col4,#T_8f0c7_row0_col5,#T_8f0c7_row0_col6,#T_8f0c7_row0_col7,#T_8f0c7_row0_col8,#T_8f0c7_row0_col9,#T_8f0c7_row1_col1,#T_8f0c7_row1_col2,#T_8f0c7_row1_col3,#T_8f0c7_row1_col4,#T_8f0c7_row1_col5,#T_8f0c7_row1_col6,#T_8f0c7_row1_col7,#T_8f0c7_row1_col8,#T_8f0c7_row1_col9,#T_8f0c7_row2_col2,#T_8f0c7_row2_col3,#T_8f0c7_row2_col4,#T_8f0c7_row2_col5,#T_8f0c7_row2_col6,#T_8f0c7_row2_col7,#T_8f0c7_row2_col8,#T_8f0c7_row2_col9,#T_8f0c7_row3_col3,#T_8f0c7_row3_col4,#T_8f0c7_row3_col5,#T_8f0c7_row3_col6,#T_8f0c7_row3_col7,#T_8f0c7_row3_col8,#T_8f0c7_row3_col9,#T_8f0c7_row4_col4,#T_8f0c7_row4_col5,#T_8f0c7_row4_col6,#T_8f0c7_row4_col7,#T_8f0c7_row4_col8,#T_8f0c7_row4_col9,#T_8f0c7_row5_col5,#T_8f0c7_row5_col6,#T_8f0c7_row5_col7,#T_8f0c7_row5_col8,#T_8f0c7_row5_col9,#T_8f0c7_row6_col6,#T_8f0c7_row6_col7,#T_8f0c7_row6_col8,#T_8f0c7_row6_col9,#T_8f0c7_row7_col7,#T_8f0c7_row7_col8,#T_8f0c7_row7_col9,#T_8f0c7_row8_col8,#T_8f0c7_row8_col9,#T_8f0c7_row9_col9{\n",
       "            background-color:  #000000;\n",
       "            color:  #f1f1f1;\n",
       "            background-color:  #f1f1f1;\n",
       "        }#T_8f0c7_row1_col0{\n",
       "            background-color:  #ecd3c5;\n",
       "            color:  #000000;\n",
       "        }#T_8f0c7_row2_col0,#T_8f0c7_row5_col0{\n",
       "            background-color:  #adc9fd;\n",
       "            color:  #000000;\n",
       "        }#T_8f0c7_row2_col1{\n",
       "            background-color:  #cad8ef;\n",
       "            color:  #000000;\n",
       "        }#T_8f0c7_row3_col0,#T_8f0c7_row8_col1{\n",
       "            background-color:  #a6c4fe;\n",
       "            color:  #000000;\n",
       "        }#T_8f0c7_row3_col1{\n",
       "            background-color:  #c4d5f3;\n",
       "            color:  #000000;\n",
       "        }#T_8f0c7_row3_col2{\n",
       "            background-color:  #ebd3c6;\n",
       "            color:  #000000;\n",
       "        }#T_8f0c7_row4_col0{\n",
       "            background-color:  #abc8fd;\n",
       "            color:  #000000;\n",
       "        }#T_8f0c7_row4_col1{\n",
       "            background-color:  #f5c4ac;\n",
       "            color:  #000000;\n",
       "        }#T_8f0c7_row4_col2{\n",
       "            background-color:  #d2dbe8;\n",
       "            color:  #000000;\n",
       "        }#T_8f0c7_row4_col3{\n",
       "            background-color:  #f7af91;\n",
       "            color:  #000000;\n",
       "        }#T_8f0c7_row5_col1{\n",
       "            background-color:  #d4dbe6;\n",
       "            color:  #000000;\n",
       "        }#T_8f0c7_row5_col2{\n",
       "            background-color:  #e6d7cf;\n",
       "            color:  #000000;\n",
       "        }#T_8f0c7_row5_col3{\n",
       "            background-color:  #f6bea4;\n",
       "            color:  #000000;\n",
       "        }#T_8f0c7_row5_col4{\n",
       "            background-color:  #edd2c3;\n",
       "            color:  #000000;\n",
       "        }#T_8f0c7_row6_col0{\n",
       "            background-color:  #f39577;\n",
       "            color:  #000000;\n",
       "        }#T_8f0c7_row6_col1{\n",
       "            background-color:  #f6bfa6;\n",
       "            color:  #000000;\n",
       "        }#T_8f0c7_row6_col2{\n",
       "            background-color:  #ead5c9;\n",
       "            color:  #000000;\n",
       "        }#T_8f0c7_row6_col3{\n",
       "            background-color:  #aec9fc;\n",
       "            color:  #000000;\n",
       "        }#T_8f0c7_row6_col4{\n",
       "            background-color:  #d6dce4;\n",
       "            color:  #000000;\n",
       "        }#T_8f0c7_row6_col5{\n",
       "            background-color:  #7699f6;\n",
       "            color:  #000000;\n",
       "        }#T_8f0c7_row7_col0{\n",
       "            background-color:  #dadce0;\n",
       "            color:  #000000;\n",
       "        }#T_8f0c7_row7_col1{\n",
       "            background-color:  #f6bda2;\n",
       "            color:  #000000;\n",
       "        }#T_8f0c7_row7_col2,#T_8f0c7_row8_col0{\n",
       "            background-color:  #f5c1a9;\n",
       "            color:  #000000;\n",
       "        }#T_8f0c7_row7_col3{\n",
       "            background-color:  #a5c3fe;\n",
       "            color:  #000000;\n",
       "        }#T_8f0c7_row7_col4{\n",
       "            background-color:  #e5d8d1;\n",
       "            color:  #000000;\n",
       "        }#T_8f0c7_row7_col5,#T_8f0c7_row9_col0{\n",
       "            background-color:  #8fb1fe;\n",
       "            color:  #000000;\n",
       "        }#T_8f0c7_row7_col6{\n",
       "            background-color:  #ef886b;\n",
       "            color:  #000000;\n",
       "        }#T_8f0c7_row8_col2,#T_8f0c7_row9_col8{\n",
       "            background-color:  #e1dad6;\n",
       "            color:  #000000;\n",
       "        }#T_8f0c7_row8_col3{\n",
       "            background-color:  #bad0f8;\n",
       "            color:  #000000;\n",
       "        }#T_8f0c7_row8_col4{\n",
       "            background-color:  #88abfd;\n",
       "            color:  #000000;\n",
       "        }#T_8f0c7_row8_col5{\n",
       "            background-color:  #d8dce2;\n",
       "            color:  #000000;\n",
       "        }#T_8f0c7_row8_col6{\n",
       "            background-color:  #c3d5f4;\n",
       "            color:  #000000;\n",
       "        }#T_8f0c7_row8_col7{\n",
       "            background-color:  #d7dce3;\n",
       "            color:  #000000;\n",
       "        }#T_8f0c7_row9_col1{\n",
       "            background-color:  #b6cefa;\n",
       "            color:  #000000;\n",
       "        }#T_8f0c7_row9_col2{\n",
       "            background-color:  #e7d7ce;\n",
       "            color:  #000000;\n",
       "        }#T_8f0c7_row9_col3{\n",
       "            background-color:  #ec8165;\n",
       "            color:  #000000;\n",
       "        }#T_8f0c7_row9_col4{\n",
       "            background-color:  #e0dbd8;\n",
       "            color:  #000000;\n",
       "        }#T_8f0c7_row9_col5{\n",
       "            background-color:  #f49a7b;\n",
       "            color:  #000000;\n",
       "        }#T_8f0c7_row9_col6{\n",
       "            background-color:  #516ddb;\n",
       "            color:  #000000;\n",
       "        }#T_8f0c7_row9_col7{\n",
       "            background-color:  #779af7;\n",
       "            color:  #000000;\n",
       "        }</style><table id=\"T_8f0c7_\" ><thead>    <tr>        <th class=\"blank level0\" ></th>        <th class=\"col_heading level0 col0\" >gdp_per_capita</th>        <th class=\"col_heading level0 col1\" >population_density</th>        <th class=\"col_heading level0 col2\" >aged_70_older</th>        <th class=\"col_heading level0 col3\" >extreme_poverty</th>        <th class=\"col_heading level0 col4\" >diabetes_prevalence</th>        <th class=\"col_heading level0 col5\" >hospital_beds_per_thousand</th>        <th class=\"col_heading level0 col6\" >life_expectancy</th>        <th class=\"col_heading level0 col7\" >Perc_vacc_last_30_days</th>        <th class=\"col_heading level0 col8\" >latitude</th>        <th class=\"col_heading level0 col9\" >Deaths_last_30_days</th>    </tr></thead><tbody>\n",
       "                <tr>\n",
       "                        <th id=\"T_8f0c7_level0_row0\" class=\"row_heading level0 row0\" >gdp_per_capita</th>\n",
       "                        <td id=\"T_8f0c7_row0_col0\" class=\"data row0 col0\" >nan</td>\n",
       "                        <td id=\"T_8f0c7_row0_col1\" class=\"data row0 col1\" >nan</td>\n",
       "                        <td id=\"T_8f0c7_row0_col2\" class=\"data row0 col2\" >nan</td>\n",
       "                        <td id=\"T_8f0c7_row0_col3\" class=\"data row0 col3\" >nan</td>\n",
       "                        <td id=\"T_8f0c7_row0_col4\" class=\"data row0 col4\" >nan</td>\n",
       "                        <td id=\"T_8f0c7_row0_col5\" class=\"data row0 col5\" >nan</td>\n",
       "                        <td id=\"T_8f0c7_row0_col6\" class=\"data row0 col6\" >nan</td>\n",
       "                        <td id=\"T_8f0c7_row0_col7\" class=\"data row0 col7\" >nan</td>\n",
       "                        <td id=\"T_8f0c7_row0_col8\" class=\"data row0 col8\" >nan</td>\n",
       "                        <td id=\"T_8f0c7_row0_col9\" class=\"data row0 col9\" >nan</td>\n",
       "            </tr>\n",
       "            <tr>\n",
       "                        <th id=\"T_8f0c7_level0_row1\" class=\"row_heading level0 row1\" >population_density</th>\n",
       "                        <td id=\"T_8f0c7_row1_col0\" class=\"data row1 col0\" >0.130141</td>\n",
       "                        <td id=\"T_8f0c7_row1_col1\" class=\"data row1 col1\" >nan</td>\n",
       "                        <td id=\"T_8f0c7_row1_col2\" class=\"data row1 col2\" >nan</td>\n",
       "                        <td id=\"T_8f0c7_row1_col3\" class=\"data row1 col3\" >nan</td>\n",
       "                        <td id=\"T_8f0c7_row1_col4\" class=\"data row1 col4\" >nan</td>\n",
       "                        <td id=\"T_8f0c7_row1_col5\" class=\"data row1 col5\" >nan</td>\n",
       "                        <td id=\"T_8f0c7_row1_col6\" class=\"data row1 col6\" >nan</td>\n",
       "                        <td id=\"T_8f0c7_row1_col7\" class=\"data row1 col7\" >nan</td>\n",
       "                        <td id=\"T_8f0c7_row1_col8\" class=\"data row1 col8\" >nan</td>\n",
       "                        <td id=\"T_8f0c7_row1_col9\" class=\"data row1 col9\" >nan</td>\n",
       "            </tr>\n",
       "            <tr>\n",
       "                        <th id=\"T_8f0c7_level0_row2\" class=\"row_heading level0 row2\" >aged_70_older</th>\n",
       "                        <td id=\"T_8f0c7_row2_col0\" class=\"data row2 col0\" >-0.318411</td>\n",
       "                        <td id=\"T_8f0c7_row2_col1\" class=\"data row2 col1\" >-0.135075</td>\n",
       "                        <td id=\"T_8f0c7_row2_col2\" class=\"data row2 col2\" >nan</td>\n",
       "                        <td id=\"T_8f0c7_row2_col3\" class=\"data row2 col3\" >nan</td>\n",
       "                        <td id=\"T_8f0c7_row2_col4\" class=\"data row2 col4\" >nan</td>\n",
       "                        <td id=\"T_8f0c7_row2_col5\" class=\"data row2 col5\" >nan</td>\n",
       "                        <td id=\"T_8f0c7_row2_col6\" class=\"data row2 col6\" >nan</td>\n",
       "                        <td id=\"T_8f0c7_row2_col7\" class=\"data row2 col7\" >nan</td>\n",
       "                        <td id=\"T_8f0c7_row2_col8\" class=\"data row2 col8\" >nan</td>\n",
       "                        <td id=\"T_8f0c7_row2_col9\" class=\"data row2 col9\" >nan</td>\n",
       "            </tr>\n",
       "            <tr>\n",
       "                        <th id=\"T_8f0c7_level0_row3\" class=\"row_heading level0 row3\" >extreme_poverty</th>\n",
       "                        <td id=\"T_8f0c7_row3_col0\" class=\"data row3 col0\" >-0.356608</td>\n",
       "                        <td id=\"T_8f0c7_row3_col1\" class=\"data row3 col1\" >-0.172012</td>\n",
       "                        <td id=\"T_8f0c7_row3_col2\" class=\"data row3 col2\" >0.118310</td>\n",
       "                        <td id=\"T_8f0c7_row3_col3\" class=\"data row3 col3\" >nan</td>\n",
       "                        <td id=\"T_8f0c7_row3_col4\" class=\"data row3 col4\" >nan</td>\n",
       "                        <td id=\"T_8f0c7_row3_col5\" class=\"data row3 col5\" >nan</td>\n",
       "                        <td id=\"T_8f0c7_row3_col6\" class=\"data row3 col6\" >nan</td>\n",
       "                        <td id=\"T_8f0c7_row3_col7\" class=\"data row3 col7\" >nan</td>\n",
       "                        <td id=\"T_8f0c7_row3_col8\" class=\"data row3 col8\" >nan</td>\n",
       "                        <td id=\"T_8f0c7_row3_col9\" class=\"data row3 col9\" >nan</td>\n",
       "            </tr>\n",
       "            <tr>\n",
       "                        <th id=\"T_8f0c7_level0_row4\" class=\"row_heading level0 row4\" >diabetes_prevalence</th>\n",
       "                        <td id=\"T_8f0c7_row4_col0\" class=\"data row4 col0\" >-0.326223</td>\n",
       "                        <td id=\"T_8f0c7_row4_col1\" class=\"data row4 col1\" >0.252022</td>\n",
       "                        <td id=\"T_8f0c7_row4_col2\" class=\"data row4 col2\" >-0.078269</td>\n",
       "                        <td id=\"T_8f0c7_row4_col3\" class=\"data row4 col3\" >0.385693</td>\n",
       "                        <td id=\"T_8f0c7_row4_col4\" class=\"data row4 col4\" >nan</td>\n",
       "                        <td id=\"T_8f0c7_row4_col5\" class=\"data row4 col5\" >nan</td>\n",
       "                        <td id=\"T_8f0c7_row4_col6\" class=\"data row4 col6\" >nan</td>\n",
       "                        <td id=\"T_8f0c7_row4_col7\" class=\"data row4 col7\" >nan</td>\n",
       "                        <td id=\"T_8f0c7_row4_col8\" class=\"data row4 col8\" >nan</td>\n",
       "                        <td id=\"T_8f0c7_row4_col9\" class=\"data row4 col9\" >nan</td>\n",
       "            </tr>\n",
       "            <tr>\n",
       "                        <th id=\"T_8f0c7_level0_row5\" class=\"row_heading level0 row5\" >hospital_beds_per_thousand</th>\n",
       "                        <td id=\"T_8f0c7_row5_col0\" class=\"data row5 col0\" >-0.314582</td>\n",
       "                        <td id=\"T_8f0c7_row5_col1\" class=\"data row5 col1\" >-0.065464</td>\n",
       "                        <td id=\"T_8f0c7_row5_col2\" class=\"data row5 col2\" >0.076891</td>\n",
       "                        <td id=\"T_8f0c7_row5_col3\" class=\"data row5 col3\" >0.293696</td>\n",
       "                        <td id=\"T_8f0c7_row5_col4\" class=\"data row5 col4\" >0.137327</td>\n",
       "                        <td id=\"T_8f0c7_row5_col5\" class=\"data row5 col5\" >nan</td>\n",
       "                        <td id=\"T_8f0c7_row5_col6\" class=\"data row5 col6\" >nan</td>\n",
       "                        <td id=\"T_8f0c7_row5_col7\" class=\"data row5 col7\" >nan</td>\n",
       "                        <td id=\"T_8f0c7_row5_col8\" class=\"data row5 col8\" >nan</td>\n",
       "                        <td id=\"T_8f0c7_row5_col9\" class=\"data row5 col9\" >nan</td>\n",
       "            </tr>\n",
       "            <tr>\n",
       "                        <th id=\"T_8f0c7_level0_row6\" class=\"row_heading level0 row6\" >life_expectancy</th>\n",
       "                        <td id=\"T_8f0c7_row6_col0\" class=\"data row6 col0\" >0.518650</td>\n",
       "                        <td id=\"T_8f0c7_row6_col1\" class=\"data row6 col1\" >0.287622</td>\n",
       "                        <td id=\"T_8f0c7_row6_col2\" class=\"data row6 col2\" >0.103775</td>\n",
       "                        <td id=\"T_8f0c7_row6_col3\" class=\"data row6 col3\" >-0.309593</td>\n",
       "                        <td id=\"T_8f0c7_row6_col4\" class=\"data row6 col4\" >-0.052046</td>\n",
       "                        <td id=\"T_8f0c7_row6_col5\" class=\"data row6 col5\" >-0.626304</td>\n",
       "                        <td id=\"T_8f0c7_row6_col6\" class=\"data row6 col6\" >nan</td>\n",
       "                        <td id=\"T_8f0c7_row6_col7\" class=\"data row6 col7\" >nan</td>\n",
       "                        <td id=\"T_8f0c7_row6_col8\" class=\"data row6 col8\" >nan</td>\n",
       "                        <td id=\"T_8f0c7_row6_col9\" class=\"data row6 col9\" >nan</td>\n",
       "            </tr>\n",
       "            <tr>\n",
       "                        <th id=\"T_8f0c7_level0_row7\" class=\"row_heading level0 row7\" >Perc_vacc_last_30_days</th>\n",
       "                        <td id=\"T_8f0c7_row7_col0\" class=\"data row7 col0\" >-0.016887</td>\n",
       "                        <td id=\"T_8f0c7_row7_col1\" class=\"data row7 col1\" >0.298587</td>\n",
       "                        <td id=\"T_8f0c7_row7_col2\" class=\"data row7 col2\" >0.265816</td>\n",
       "                        <td id=\"T_8f0c7_row7_col3\" class=\"data row7 col3\" >-0.366377</td>\n",
       "                        <td id=\"T_8f0c7_row7_col4\" class=\"data row7 col4\" >0.069955</td>\n",
       "                        <td id=\"T_8f0c7_row7_col5\" class=\"data row7 col5\" >-0.487478</td>\n",
       "                        <td id=\"T_8f0c7_row7_col6\" class=\"data row7 col6\" >0.585467</td>\n",
       "                        <td id=\"T_8f0c7_row7_col7\" class=\"data row7 col7\" >nan</td>\n",
       "                        <td id=\"T_8f0c7_row7_col8\" class=\"data row7 col8\" >nan</td>\n",
       "                        <td id=\"T_8f0c7_row7_col9\" class=\"data row7 col9\" >nan</td>\n",
       "            </tr>\n",
       "            <tr>\n",
       "                        <th id=\"T_8f0c7_level0_row8\" class=\"row_heading level0 row8\" >latitude</th>\n",
       "                        <td id=\"T_8f0c7_row8_col0\" class=\"data row8 col0\" >0.268820</td>\n",
       "                        <td id=\"T_8f0c7_row8_col1\" class=\"data row8 col1\" >-0.357938</td>\n",
       "                        <td id=\"T_8f0c7_row8_col2\" class=\"data row8 col2\" >0.031547</td>\n",
       "                        <td id=\"T_8f0c7_row8_col3\" class=\"data row8 col3\" >-0.235576</td>\n",
       "                        <td id=\"T_8f0c7_row8_col4\" class=\"data row8 col4\" >-0.529349</td>\n",
       "                        <td id=\"T_8f0c7_row8_col5\" class=\"data row8 col5\" >-0.034396</td>\n",
       "                        <td id=\"T_8f0c7_row8_col6\" class=\"data row8 col6\" >-0.180750</td>\n",
       "                        <td id=\"T_8f0c7_row8_col7\" class=\"data row8 col7\" >-0.039956</td>\n",
       "                        <td id=\"T_8f0c7_row8_col8\" class=\"data row8 col8\" >nan</td>\n",
       "                        <td id=\"T_8f0c7_row8_col9\" class=\"data row8 col9\" >nan</td>\n",
       "            </tr>\n",
       "            <tr>\n",
       "                        <th id=\"T_8f0c7_level0_row9\" class=\"row_heading level0 row9\" >Deaths_last_30_days</th>\n",
       "                        <td id=\"T_8f0c7_row9_col0\" class=\"data row9 col0\" >-0.488544</td>\n",
       "                        <td id=\"T_8f0c7_row9_col1\" class=\"data row9 col1\" >-0.264797</td>\n",
       "                        <td id=\"T_8f0c7_row9_col2\" class=\"data row9 col2\" >0.082578</td>\n",
       "                        <td id=\"T_8f0c7_row9_col3\" class=\"data row9 col3\" >0.617074</td>\n",
       "                        <td id=\"T_8f0c7_row9_col4\" class=\"data row9 col4\" >0.025032</td>\n",
       "                        <td id=\"T_8f0c7_row9_col5\" class=\"data row9 col5\" >0.499540</td>\n",
       "                        <td id=\"T_8f0c7_row9_col6\" class=\"data row9 col6\" >-0.850439</td>\n",
       "                        <td id=\"T_8f0c7_row9_col7\" class=\"data row9 col7\" >-0.618215</td>\n",
       "                        <td id=\"T_8f0c7_row9_col8\" class=\"data row9 col8\" >0.035586</td>\n",
       "                        <td id=\"T_8f0c7_row9_col9\" class=\"data row9 col9\" >nan</td>\n",
       "            </tr>\n",
       "    </tbody></table>"
      ],
      "text/plain": [
       "<pandas.io.formats.style.Styler at 0x2b6e4c9df70>"
      ]
     },
     "execution_count": 10,
     "metadata": {},
     "output_type": "execute_result"
    }
   ],
   "source": [
    "corr = df_europe_small.corr()\n",
    "\n",
    "# Plotta solo metà matrice di correlazione\n",
    "mask = np.zeros_like(corr, dtype=bool)\n",
    "mask[np.triu_indices_from(mask)] = True\n",
    "corr[mask] = np.nan\n",
    "(corr\n",
    " .style.background_gradient(cmap='coolwarm', axis=None, vmin=-1, vmax=1)\n",
    " .highlight_null(null_color='#f1f1f1'))  # Color NaNs grey"
   ]
  },
  {
   "cell_type": "markdown",
   "metadata": {},
   "source": [
    "### Modello con regressione lineare"
   ]
  },
  {
   "cell_type": "code",
   "execution_count": 11,
   "metadata": {},
   "outputs": [],
   "source": [
    "from sklearn import linear_model\n",
    "from sklearn.preprocessing import StandardScaler\n",
    "from sklearn.metrics import r2_score"
   ]
  },
  {
   "cell_type": "code",
   "execution_count": 12,
   "metadata": {},
   "outputs": [],
   "source": [
    "# Definisci dati per modello\n",
    "X = df_europe_small.drop([f'Deaths_last_{tw_death}_days'], axis=1)\n",
    "# Riempi i NaN con median/mean\n",
    "X.fillna(X.median(), inplace=True)\n",
    "# Scala dati\n",
    "scaler = StandardScaler()\n",
    "X[X.columns.tolist()] = scaler.fit_transform(X[X.columns.tolist()])\n",
    "\n",
    "Y = df_europe_small[f'Deaths_last_{tw_death}_days']"
   ]
  },
  {
   "cell_type": "code",
   "execution_count": 13,
   "metadata": {},
   "outputs": [],
   "source": [
    "# # LINEAR REGRESSION\n",
    "# # Crea modello e stampa dati\n",
    "# regr = linear_model.LinearRegression()\n",
    "# regr.fit(X, Y)\n",
    "# score = regr.score(X, Y)\n",
    "\n",
    "# print('Intercetta: \\n', regr.intercept_)\n",
    "# print('Coefficienti: \\n', regr.coef_)\n",
    "# print('R2 Score', score)"
   ]
  },
  {
   "cell_type": "code",
   "execution_count": 14,
   "metadata": {},
   "outputs": [
    {
     "name": "stdout",
     "output_type": "stream",
     "text": [
      "Intercetta: \n",
      " 133.87370370370274\n",
      "Coefficienti: \n",
      " [  19.09713574   13.73661628   37.25824738   65.37497561  -28.46603019\n",
      "  -30.17702076 -160.19347929  -17.30211773  -27.62738175]\n",
      "R2 Score 0.9239035206624071\n"
     ]
    }
   ],
   "source": [
    "# LASSO\n",
    "# Crea modello e stampa dati\n",
    "# alpha_list = [0.0001, 0.001, 0.01, 0.1, 1, 10, 100]\n",
    "alpha_list = [0.001]\n",
    "for el in alpha_list:\n",
    "    regr = linear_model.Lasso(alpha=el)\n",
    "    regr.fit(X, Y)\n",
    "    score = regr.score(X, Y)\n",
    "\n",
    "    print('Intercetta: \\n', regr.intercept_)\n",
    "    print('Coefficienti: \\n', regr.coef_)\n",
    "    print('R2 Score', score)"
   ]
  },
  {
   "cell_type": "code",
   "execution_count": 15,
   "metadata": {},
   "outputs": [
    {
     "name": "stdout",
     "output_type": "stream",
     "text": [
      "watermark fontsize: 15, angle:-26.57\n"
     ]
    },
    {
     "data": {
      "image/png": "[encoded data removed]",
      "text/plain": [
       "<Figure size 576x288 with 1 Axes>"
      ]
     },
     "metadata": {},
     "output_type": "display_data"
    }
   ],
   "source": [
    "# Stampa grafico dei coefficienti\n",
    "plt.style.use('seaborn-dark')\n",
    "fig, ax = plt.subplots(figsize=(8, 4))\n",
    "plt.barh(X.columns, regr.coef_)\n",
    "plt.xlabel('Coefficiente della regressione lineare')\n",
    "plt.grid()\n",
    "ax = plt.gca()\n",
    "add_watermark(fig, ax.xaxis.label.get_fontsize())\n",
    "plt.tight_layout()\n",
    "plt.savefig('../risultati/coefficienti.png', dpi=300, bbox_inches=\"tight\")\n",
    "plt.show()"
   ]
  },
  {
   "cell_type": "code",
   "execution_count": 16,
   "metadata": {},
   "outputs": [
    {
     "name": "stdout",
     "output_type": "stream",
     "text": [
      "                             OLS Regression Results                            \n",
      "===============================================================================\n",
      "Dep. Variable:     Deaths_last_30_days   R-squared:                       0.924\n",
      "Model:                             OLS   Adj. R-squared:                  0.884\n",
      "Method:                  Least Squares   F-statistic:                     22.93\n",
      "Date:                 Sun, 14 Nov 2021   Prob (F-statistic):           8.37e-08\n",
      "Time:                         20:44:55   Log-Likelihood:                -142.77\n",
      "No. Observations:                   27   AIC:                             305.5\n",
      "Df Residuals:                       17   BIC:                             318.5\n",
      "Df Model:                            9                                         \n",
      "Covariance Type:             nonrobust                                         \n",
      "==============================================================================================\n",
      "                                 coef    std err          t      P>|t|      [0.025      0.975]\n",
      "----------------------------------------------------------------------------------------------\n",
      "const                        133.8737     11.616     11.525      0.000     109.366     158.382\n",
      "gdp_per_capita                19.1045     21.557      0.886      0.388     -26.378      64.587\n",
      "population_density            13.7383     14.154      0.971      0.345     -16.124      43.601\n",
      "aged_70_older                 37.2628     14.897      2.501      0.023       5.832      68.694\n",
      "extreme_poverty               65.3762     14.521      4.502      0.000      34.739      96.013\n",
      "diabetes_prevalence          -28.4678     15.266     -1.865      0.080     -60.677       3.742\n",
      "hospital_beds_per_thousand   -30.1820     16.637     -1.814      0.087     -65.283       4.919\n",
      "life_expectancy             -160.2039     25.876     -6.191      0.000    -214.797    -105.611\n",
      "Perc_vacc_last_30_days       -17.3007     20.237     -0.855      0.404     -59.996      25.395\n",
      "latitude                     -27.6326     17.447     -1.584      0.132     -64.443       9.177\n",
      "==============================================================================\n",
      "Omnibus:                        1.722   Durbin-Watson:                   2.728\n",
      "Prob(Omnibus):                  0.423   Jarque-Bera (JB):                0.793\n",
      "Skew:                          -0.395   Prob(JB):                        0.673\n",
      "Kurtosis:                       3.283   Cond. No.                         5.15\n",
      "==============================================================================\n",
      "\n",
      "Notes:\n",
      "[1] Standard Errors assume that the covariance matrix of the errors is correctly specified.\n"
     ]
    }
   ],
   "source": [
    "import statsmodels.api as sm\n",
    "# with statsmodels\n",
    "X = sm.add_constant(X) # adding a constant\n",
    " \n",
    "model = sm.OLS(Y, X).fit()\n",
    "predictions = model.predict(X) \n",
    " \n",
    "print_model = model.summary()\n",
    "print(print_model)"
   ]
  },
  {
   "cell_type": "markdown",
   "metadata": {},
   "source": [
    "### Feature importance con RF"
   ]
  },
  {
   "cell_type": "code",
   "execution_count": 17,
   "metadata": {},
   "outputs": [],
   "source": [
    "# from sklearn.ensemble import RandomForestRegressor\n",
    "\n",
    "# # Definisci modello\n",
    "# RF_model = RandomForestRegressor(max_depth=10, random_state=42)\n",
    "# RF_model.fit(X, Y)\n",
    "\n",
    "# # Plotta importanza feature\n",
    "# for i, el in enumerate(X.columns):\n",
    "#     print(f'Feature: {el}, importance: {RF_model.feature_importances_[i]*100:.2f}')"
   ]
  },
  {
   "cell_type": "code",
   "execution_count": 18,
   "metadata": {},
   "outputs": [],
   "source": [
    "# Risultati su morti 7 mesi:\n",
    "# Feature: const, importance: 0.00\n",
    "# Feature: gdp_per_capita, importance: 39.72\n",
    "# Feature: population_density, importance: 1.51\n",
    "# Feature: aged_70_older, importance: 1.39\n",
    "# Feature: extreme_poverty, importance: 2.68\n",
    "# Feature: diabetes_prevalence, importance: 1.24\n",
    "# Feature: hospital_beds_per_thousand, importance: 2.60\n",
    "# Feature: life_expectancy, importance: 44.23\n",
    "# Feature: Perc_vacc_last_7_days, importance: 5.05\n",
    "# Feature: latitude, importance: 1.57"
   ]
  },
  {
   "cell_type": "code",
   "execution_count": null,
   "metadata": {},
   "outputs": [],
   "source": []
  }
 ],
 "metadata": {
  "colab": {
   "collapsed_sections": [],
   "name": "vaccini_decessi_mondo.ipynb",
   "provenance": []
  },
  "kernelspec": {
   "display_name": "Python 3",
   "language": "python",
   "name": "python3"
  },
  "language_info": {
   "codemirror_mode": {
    "name": "ipython",
    "version": 3
   },
   "file_extension": ".py",
   "mimetype": "text/x-python",
   "name": "python",
   "nbconvert_exporter": "python",
   "pygments_lexer": "ipython3",
   "version": "3.8.8"
  }
 },
 "nbformat": 4,
 "nbformat_minor": 4
}
