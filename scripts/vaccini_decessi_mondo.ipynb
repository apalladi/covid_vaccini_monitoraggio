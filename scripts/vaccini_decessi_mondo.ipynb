{
 "cells": [
  {
   "cell_type": "code",
   "execution_count": 1,
   "metadata": {
    "id": "JP8AO1_VKGTb"
   },
   "outputs": [],
   "source": [
    "import numpy as np\n",
    "import matplotlib.pyplot as plt\n",
    "import pandas as pd\n",
    "from custom.watermarks import add_watermark"
   ]
  },
  {
   "cell_type": "code",
   "execution_count": null,
   "metadata": {
    "id": "M13aka2wKLFc"
   },
   "outputs": [],
   "source": [
    "# url = \"https://raw.githubusercontent.com/owid/covid-19-data/master/public/data/vaccinations/vaccinations.csv\"  # noqa: E501\n",
    "# df_vacc = pd.read_csv(url)\n",
    "# df_vacc = df_vacc.fillna(method=\"backfill\")\n",
    "\n",
    "# def get_vaccine_data(country, time_window=30, fully=False):\n",
    "#     \"\"\" Recupera dati sulla frazione di vaccinati medi negli ultimi 30 giorni\"\"\"\n",
    "\n",
    "#     df_vacc_country = df_vacc[df_vacc[\"location\"] == country].iloc[2:, :]\n",
    "\n",
    "#     if fully==False:\n",
    "#         vacc_fully = np.array(df_vacc_country[\"people_vaccinated_per_hundred\"])\n",
    "#     else:\n",
    "#         vacc_fully = np.array(df_vacc_country[\"people_fully_vaccinated_per_hundred\"])\n",
    "\n",
    "#     vacc_ultimi_Ngiorni = (vacc_fully[-1] + vacc_fully[-(time_window+1)])/2\n",
    "\n",
    "#     return vacc_ultimi_Ngiorni"
   ]
  },
  {
   "cell_type": "code",
   "execution_count": null,
   "metadata": {
    "id": "s8mlKjtiKZRK"
   },
   "outputs": [],
   "source": [
    "# file_deaths = \"https://raw.githubusercontent.com/CSSEGISandData/COVID-19/master/csse_covid_19_data/csse_covid_19_time_series/time_series_covid19_deaths_global.csv\"  \n",
    "# df_deaths = pd.read_csv(file_deaths)\n",
    "\n",
    "# def get_deaths(country, time_window=30):\n",
    "#     decessi = np.array(df_deaths[df_deaths['Country/Region']==country].iloc[:, 4:].sum())\n",
    "#     decessi_ultimi_Ngiorni = decessi[-1] - decessi[-(time_window+1)]\n",
    "#     return decessi_ultimi_Ngiorni"
   ]
  },
  {
   "cell_type": "markdown",
   "metadata": {},
   "source": [
    "### Importa dati da Our World in Data"
   ]
  },
  {
   "cell_type": "code",
   "execution_count": 2,
   "metadata": {},
   "outputs": [],
   "source": [
    "file_owid = 'https://covid.ourworldindata.org/data/owid-covid-data.csv'\n",
    "df_global = pd.read_csv(file_owid)"
   ]
  },
  {
   "cell_type": "code",
   "execution_count": 78,
   "metadata": {},
   "outputs": [
    {
     "data": {
      "text/html": [
       "<div>\n",
       "<style scoped>\n",
       "    .dataframe tbody tr th:only-of-type {\n",
       "        vertical-align: middle;\n",
       "    }\n",
       "\n",
       "    .dataframe tbody tr th {\n",
       "        vertical-align: top;\n",
       "    }\n",
       "\n",
       "    .dataframe thead th {\n",
       "        text-align: right;\n",
       "    }\n",
       "</style>\n",
       "<table border=\"1\" class=\"dataframe\">\n",
       "  <thead>\n",
       "    <tr style=\"text-align: right;\">\n",
       "      <th></th>\n",
       "      <th>iso_code</th>\n",
       "      <th>continent</th>\n",
       "      <th>location</th>\n",
       "      <th>date</th>\n",
       "      <th>total_cases</th>\n",
       "      <th>new_cases</th>\n",
       "      <th>new_cases_smoothed</th>\n",
       "      <th>total_deaths</th>\n",
       "      <th>new_deaths</th>\n",
       "      <th>new_deaths_smoothed</th>\n",
       "      <th>...</th>\n",
       "      <th>female_smokers</th>\n",
       "      <th>male_smokers</th>\n",
       "      <th>handwashing_facilities</th>\n",
       "      <th>hospital_beds_per_thousand</th>\n",
       "      <th>life_expectancy</th>\n",
       "      <th>human_development_index</th>\n",
       "      <th>excess_mortality_cumulative_absolute</th>\n",
       "      <th>excess_mortality_cumulative</th>\n",
       "      <th>excess_mortality</th>\n",
       "      <th>excess_mortality_cumulative_per_million</th>\n",
       "    </tr>\n",
       "  </thead>\n",
       "  <tbody>\n",
       "    <tr>\n",
       "      <th>0</th>\n",
       "      <td>AFG</td>\n",
       "      <td>Asia</td>\n",
       "      <td>Afghanistan</td>\n",
       "      <td>2020-02-24</td>\n",
       "      <td>5.0</td>\n",
       "      <td>5.0</td>\n",
       "      <td>NaN</td>\n",
       "      <td>NaN</td>\n",
       "      <td>NaN</td>\n",
       "      <td>NaN</td>\n",
       "      <td>...</td>\n",
       "      <td>NaN</td>\n",
       "      <td>NaN</td>\n",
       "      <td>37.746</td>\n",
       "      <td>0.5</td>\n",
       "      <td>64.83</td>\n",
       "      <td>0.511</td>\n",
       "      <td>NaN</td>\n",
       "      <td>NaN</td>\n",
       "      <td>NaN</td>\n",
       "      <td>NaN</td>\n",
       "    </tr>\n",
       "    <tr>\n",
       "      <th>1</th>\n",
       "      <td>AFG</td>\n",
       "      <td>Asia</td>\n",
       "      <td>Afghanistan</td>\n",
       "      <td>2020-02-25</td>\n",
       "      <td>5.0</td>\n",
       "      <td>0.0</td>\n",
       "      <td>NaN</td>\n",
       "      <td>NaN</td>\n",
       "      <td>NaN</td>\n",
       "      <td>NaN</td>\n",
       "      <td>...</td>\n",
       "      <td>NaN</td>\n",
       "      <td>NaN</td>\n",
       "      <td>37.746</td>\n",
       "      <td>0.5</td>\n",
       "      <td>64.83</td>\n",
       "      <td>0.511</td>\n",
       "      <td>NaN</td>\n",
       "      <td>NaN</td>\n",
       "      <td>NaN</td>\n",
       "      <td>NaN</td>\n",
       "    </tr>\n",
       "    <tr>\n",
       "      <th>2</th>\n",
       "      <td>AFG</td>\n",
       "      <td>Asia</td>\n",
       "      <td>Afghanistan</td>\n",
       "      <td>2020-02-26</td>\n",
       "      <td>5.0</td>\n",
       "      <td>0.0</td>\n",
       "      <td>NaN</td>\n",
       "      <td>NaN</td>\n",
       "      <td>NaN</td>\n",
       "      <td>NaN</td>\n",
       "      <td>...</td>\n",
       "      <td>NaN</td>\n",
       "      <td>NaN</td>\n",
       "      <td>37.746</td>\n",
       "      <td>0.5</td>\n",
       "      <td>64.83</td>\n",
       "      <td>0.511</td>\n",
       "      <td>NaN</td>\n",
       "      <td>NaN</td>\n",
       "      <td>NaN</td>\n",
       "      <td>NaN</td>\n",
       "    </tr>\n",
       "    <tr>\n",
       "      <th>3</th>\n",
       "      <td>AFG</td>\n",
       "      <td>Asia</td>\n",
       "      <td>Afghanistan</td>\n",
       "      <td>2020-02-27</td>\n",
       "      <td>5.0</td>\n",
       "      <td>0.0</td>\n",
       "      <td>NaN</td>\n",
       "      <td>NaN</td>\n",
       "      <td>NaN</td>\n",
       "      <td>NaN</td>\n",
       "      <td>...</td>\n",
       "      <td>NaN</td>\n",
       "      <td>NaN</td>\n",
       "      <td>37.746</td>\n",
       "      <td>0.5</td>\n",
       "      <td>64.83</td>\n",
       "      <td>0.511</td>\n",
       "      <td>NaN</td>\n",
       "      <td>NaN</td>\n",
       "      <td>NaN</td>\n",
       "      <td>NaN</td>\n",
       "    </tr>\n",
       "    <tr>\n",
       "      <th>4</th>\n",
       "      <td>AFG</td>\n",
       "      <td>Asia</td>\n",
       "      <td>Afghanistan</td>\n",
       "      <td>2020-02-28</td>\n",
       "      <td>5.0</td>\n",
       "      <td>0.0</td>\n",
       "      <td>NaN</td>\n",
       "      <td>NaN</td>\n",
       "      <td>NaN</td>\n",
       "      <td>NaN</td>\n",
       "      <td>...</td>\n",
       "      <td>NaN</td>\n",
       "      <td>NaN</td>\n",
       "      <td>37.746</td>\n",
       "      <td>0.5</td>\n",
       "      <td>64.83</td>\n",
       "      <td>0.511</td>\n",
       "      <td>NaN</td>\n",
       "      <td>NaN</td>\n",
       "      <td>NaN</td>\n",
       "      <td>NaN</td>\n",
       "    </tr>\n",
       "  </tbody>\n",
       "</table>\n",
       "<p>5 rows × 65 columns</p>\n",
       "</div>"
      ],
      "text/plain": [
       "  iso_code continent     location        date  total_cases  new_cases  \\\n",
       "0      AFG      Asia  Afghanistan  2020-02-24          5.0        5.0   \n",
       "1      AFG      Asia  Afghanistan  2020-02-25          5.0        0.0   \n",
       "2      AFG      Asia  Afghanistan  2020-02-26          5.0        0.0   \n",
       "3      AFG      Asia  Afghanistan  2020-02-27          5.0        0.0   \n",
       "4      AFG      Asia  Afghanistan  2020-02-28          5.0        0.0   \n",
       "\n",
       "   new_cases_smoothed  total_deaths  new_deaths  new_deaths_smoothed  ...  \\\n",
       "0                 NaN           NaN         NaN                  NaN  ...   \n",
       "1                 NaN           NaN         NaN                  NaN  ...   \n",
       "2                 NaN           NaN         NaN                  NaN  ...   \n",
       "3                 NaN           NaN         NaN                  NaN  ...   \n",
       "4                 NaN           NaN         NaN                  NaN  ...   \n",
       "\n",
       "   female_smokers  male_smokers  handwashing_facilities  \\\n",
       "0             NaN           NaN                  37.746   \n",
       "1             NaN           NaN                  37.746   \n",
       "2             NaN           NaN                  37.746   \n",
       "3             NaN           NaN                  37.746   \n",
       "4             NaN           NaN                  37.746   \n",
       "\n",
       "   hospital_beds_per_thousand  life_expectancy  human_development_index  \\\n",
       "0                         0.5            64.83                    0.511   \n",
       "1                         0.5            64.83                    0.511   \n",
       "2                         0.5            64.83                    0.511   \n",
       "3                         0.5            64.83                    0.511   \n",
       "4                         0.5            64.83                    0.511   \n",
       "\n",
       "   excess_mortality_cumulative_absolute  excess_mortality_cumulative  \\\n",
       "0                                   NaN                          NaN   \n",
       "1                                   NaN                          NaN   \n",
       "2                                   NaN                          NaN   \n",
       "3                                   NaN                          NaN   \n",
       "4                                   NaN                          NaN   \n",
       "\n",
       "   excess_mortality  excess_mortality_cumulative_per_million  \n",
       "0               NaN                                      NaN  \n",
       "1               NaN                                      NaN  \n",
       "2               NaN                                      NaN  \n",
       "3               NaN                                      NaN  \n",
       "4               NaN                                      NaN  \n",
       "\n",
       "[5 rows x 65 columns]"
      ]
     },
     "execution_count": 78,
     "metadata": {},
     "output_type": "execute_result"
    }
   ],
   "source": [
    "df_global.head()"
   ]
  },
  {
   "cell_type": "markdown",
   "metadata": {},
   "source": [
    "### Definizione funzioni"
   ]
  },
  {
   "cell_type": "code",
   "execution_count": 38,
   "metadata": {},
   "outputs": [],
   "source": [
    "def get_vaccine_data(country, time_window=30, fully=False):\n",
    "    \"\"\" Recupera dati sulla frazione di vaccinati medi negli ultimi 30 giorni\"\"\"\n",
    "    df_vacc_country = df_global[df_global[\"location\"] == country]\n",
    "    if fully==False:\n",
    "        vacc_fully = np.array(df_vacc_country[\"people_vaccinated_per_hundred\"][-(time_window+1):-1])\n",
    "    else:\n",
    "        vacc_fully = np.array(df_vacc_country[\"people_fully_vaccinated_per_hundred\"][-(time_window+1):-1])\n",
    "    vacc_ultimi_Ngiorni = np.average(vacc_fully[~np.isnan(vacc_fully)])\n",
    "    return vacc_ultimi_Ngiorni"
   ]
  },
  {
   "cell_type": "code",
   "execution_count": 39,
   "metadata": {},
   "outputs": [],
   "source": [
    "def get_deaths(country, time_window=30):\n",
    "    \"\"\" Recupera dati sul numero assoluto di decessi negli ultimi 30 giorni\"\"\"\n",
    "    decessi = np.array(df_global[df_global[\"location\"] == country]['total_deaths'])\n",
    "    decessi_ultimi_Ngiorni = decessi[-1] - decessi[-(time_window+1)]\n",
    "    return decessi_ultimi_Ngiorni"
   ]
  },
  {
   "cell_type": "code",
   "execution_count": 55,
   "metadata": {},
   "outputs": [],
   "source": [
    "def get_population(countries):\n",
    "    \"\"\" Recupera dati sulla popolazione dei paesi specificati (input = lista)\"\"\"\n",
    "    abitanti = {key: '' for key in countries}\n",
    "    for el in countries:\n",
    "        abitanti[el] = df_global[df_global[\"location\"] == el]['population'].tolist()[-1]/1e6\n",
    "    return abitanti"
   ]
  },
  {
   "cell_type": "markdown",
   "metadata": {
    "id": "qQkoPX-9NFRz"
   },
   "source": [
    "### Calcoli con diversi Paesi"
   ]
  },
  {
   "cell_type": "code",
   "execution_count": 72,
   "metadata": {
    "id": "j4epHZfGLw9O"
   },
   "outputs": [],
   "source": [
    "# paesi = ['Bulgaria', 'Romania', 'Russia', 'United States', 'Greece', 'Israel', 'United Kingdom', 'Italy', 'Spain', 'Portugal']\n",
    "paesi = ['Bulgaria', 'Romania', 'Russia', 'Cuba', 'United States', 'Greece', 'Israel', 'United Kingdom', 'Italy', 'Uruguay', 'Spain', 'Portugal']\n",
    "paesi_label = ['Bulgaria', 'Romania', 'Russia', 'Cuba', 'Stati Uniti', 'Grecia', 'Israele', 'Regno Unito', 'Italia', 'Uruguay', 'Spagna', 'Portogallo']\n",
    "abitanti = get_population(paesi)\n",
    "\n",
    "dec_res=[]\n",
    "vacc_res=[]\n",
    "\n",
    "tw = 30\n",
    "\n",
    "for p in paesi:\n",
    "    vacc_res.append(get_vaccine_data(p, time_window = tw, fully=True))\n",
    "    dec_res.append(get_deaths(p, time_window = tw)/abitanti[p])"
   ]
  },
  {
   "cell_type": "code",
   "execution_count": 73,
   "metadata": {
    "colab": {
     "base_uri": "https://localhost:8080/",
     "height": 361
    },
    "id": "OUUJ7STxNTj6",
    "outputId": "8490f730-8572-4c4a-fd72-9dbb44c464ab"
   },
   "outputs": [
    {
     "name": "stdout",
     "output_type": "stream",
     "text": [
      "watermark fontsize: 17, angle:-23.96\n"
     ]
    },
    {
     "data": {
      "image/png": "[encoded data removed]",
      "text/plain": [
       "<Figure size 648x288 with 2 Axes>"
      ]
     },
     "metadata": {},
     "output_type": "display_data"
    }
   ],
   "source": [
    "plt.style.use('seaborn-dark')\n",
    "\n",
    "fig = plt.figure(figsize=(9, 4))\n",
    "plt.subplot(1, 2, 1)\n",
    "plt.barh(paesi_label, vacc_res, color='C2')\n",
    "plt.title('Vaccinati con ciclo completo \\n(media ultimo mese)')\n",
    "plt.grid()\n",
    "plt.xlim(0, 100)\n",
    "plt.xticks(np.arange(0, 101, 20), ['0%', '20%', '40%', '60%', '80%', '100%'])\n",
    "plt.subplot(1, 2, 2)\n",
    "plt.barh(paesi_label, dec_res, color='C3')\n",
    "plt.title('Decessi per milione di abitanti \\nnell\\'ultimo mese')\n",
    "plt.grid()\n",
    "ax = plt.gca()\n",
    "add_watermark(fig, ax.xaxis.label.get_fontsize())\n",
    "plt.tight_layout()\n",
    "plt.savefig('../risultati/correlazione_vaccini_decessi.png', dpi=300, bbox_inches=\"tight\")\n",
    "plt.show()"
   ]
  },
  {
   "cell_type": "code",
   "execution_count": 74,
   "metadata": {
    "colab": {
     "base_uri": "https://localhost:8080/"
    },
    "id": "mhwnOOHbQTAu",
    "outputId": "9091a2d1-d3ad-4ad4-a512-b0c06d205d98"
   },
   "outputs": [
    {
     "name": "stdout",
     "output_type": "stream",
     "text": [
      "Il coefficiente di correlazione tra frazione di vaccinati e decessi nell'ultimo mese è -0.93\n"
     ]
    }
   ],
   "source": [
    "corr_coeff = np.corrcoef(vacc_res, dec_res)[0, 1]\n",
    "print('Il coefficiente di correlazione tra frazione di vaccinati e decessi nell\\'ultimo mese è', \n",
    "      round(corr_coeff, 2))"
   ]
  },
  {
   "cell_type": "markdown",
   "metadata": {},
   "source": [
    "### Variazione della correlazione in funzione del tempo"
   ]
  },
  {
   "cell_type": "code",
   "execution_count": 75,
   "metadata": {
    "id": "rq_y5YL3XoKQ"
   },
   "outputs": [],
   "source": [
    "def corr_window(tw):\n",
    "\n",
    "    dec_res=[]\n",
    "    vacc_res=[]\n",
    "\n",
    "    for p in paesi:\n",
    "        vacc_res.append(get_vaccine_data(p, time_window = tw, fully=True))\n",
    "        dec_res.append(get_deaths(p, time_window = tw)/abitanti[p])\n",
    "\n",
    "    corr_tw = np.corrcoef(vacc_res, dec_res)[0, 1]\n",
    "\n",
    "    return corr_tw"
   ]
  },
  {
   "cell_type": "code",
   "execution_count": 76,
   "metadata": {},
   "outputs": [],
   "source": [
    "tw_grid = np.arange(7, 121, 5)\n",
    "\n",
    "corr_grid = [np.abs(corr_window(tw)) for tw in tw_grid]"
   ]
  },
  {
   "cell_type": "code",
   "execution_count": 77,
   "metadata": {},
   "outputs": [
    {
     "data": {
      "image/png": "[encoded data removed]",
      "text/plain": [
       "<Figure size 432x288 with 1 Axes>"
      ]
     },
     "metadata": {},
     "output_type": "display_data"
    }
   ],
   "source": [
    "plt.plot(tw_grid, corr_grid)\n",
    "plt.xlabel('Finestra temporale (giorni)')\n",
    "plt.ylabel('Coefficiente di (anti)correlazione')\n",
    "plt.grid()\n",
    "plt.show()"
   ]
  },
  {
   "cell_type": "code",
   "execution_count": null,
   "metadata": {},
   "outputs": [],
   "source": []
  }
 ],
 "metadata": {
  "colab": {
   "collapsed_sections": [],
   "name": "vaccini_decessi_mondo.ipynb",
   "provenance": []
  },
  "kernelspec": {
   "display_name": "Python 3",
   "language": "python",
   "name": "python3"
  },
  "language_info": {
   "codemirror_mode": {
    "name": "ipython",
    "version": 3
   },
   "file_extension": ".py",
   "mimetype": "text/x-python",
   "name": "python",
   "nbconvert_exporter": "python",
   "pygments_lexer": "ipython3",
   "version": "3.8.8"
  }
 },
 "nbformat": 4,
 "nbformat_minor": 4
}
