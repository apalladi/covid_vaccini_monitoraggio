{
 "cells": [
  {
   "cell_type": "code",
   "execution_count": 1,
   "id": "8b5f2f62-0908-4418-8bd9-91a94be59cac",
   "metadata": {},
   "outputs": [],
   "source": [
    "import numpy as np\n",
    "import matplotlib.pyplot as plt\n",
    "import pandas as pd\n",
    "from custom.watermarks import add_watermark\n",
    "\n",
    "# plt.style.use('default')\n",
    "plt.style.use('seaborn-dark')"
   ]
  },
  {
   "cell_type": "markdown",
   "id": "9481efea",
   "metadata": {},
   "source": [
    "# Importa dati"
   ]
  },
  {
   "cell_type": "markdown",
   "id": "35f98032",
   "metadata": {},
   "source": [
    "### Protezione civile"
   ]
  },
  {
   "cell_type": "code",
   "execution_count": 2,
   "id": "8086e697",
   "metadata": {},
   "outputs": [],
   "source": [
    "# dati nazionali sui contagi\r\n",
    "df_IT = pd.read_csv('https://github.com/pcm-dpc/COVID-19/raw/master/dati-andamento-nazionale/dpc-covid19-ita-andamento-nazionale.csv')"
   ]
  },
  {
   "cell_type": "code",
   "execution_count": 3,
   "id": "063816ae",
   "metadata": {},
   "outputs": [
    {
     "data": {
      "text/html": [
       "<div>\n",
       "<style scoped>\n",
       "    .dataframe tbody tr th:only-of-type {\n",
       "        vertical-align: middle;\n",
       "    }\n",
       "\n",
       "    .dataframe tbody tr th {\n",
       "        vertical-align: top;\n",
       "    }\n",
       "\n",
       "    .dataframe thead th {\n",
       "        text-align: right;\n",
       "    }\n",
       "</style>\n",
       "<table border=\"1\" class=\"dataframe\">\n",
       "  <thead>\n",
       "    <tr style=\"text-align: right;\">\n",
       "      <th></th>\n",
       "      <th>data</th>\n",
       "      <th>stato</th>\n",
       "      <th>ricoverati_con_sintomi</th>\n",
       "      <th>terapia_intensiva</th>\n",
       "      <th>totale_ospedalizzati</th>\n",
       "      <th>isolamento_domiciliare</th>\n",
       "      <th>totale_positivi</th>\n",
       "      <th>variazione_totale_positivi</th>\n",
       "      <th>nuovi_positivi</th>\n",
       "      <th>dimessi_guariti</th>\n",
       "      <th>...</th>\n",
       "      <th>tamponi</th>\n",
       "      <th>casi_testati</th>\n",
       "      <th>note</th>\n",
       "      <th>ingressi_terapia_intensiva</th>\n",
       "      <th>note_test</th>\n",
       "      <th>note_casi</th>\n",
       "      <th>totale_positivi_test_molecolare</th>\n",
       "      <th>totale_positivi_test_antigenico_rapido</th>\n",
       "      <th>tamponi_test_molecolare</th>\n",
       "      <th>tamponi_test_antigenico_rapido</th>\n",
       "    </tr>\n",
       "  </thead>\n",
       "  <tbody>\n",
       "    <tr>\n",
       "      <th>0</th>\n",
       "      <td>2020-02-24T18:00:00</td>\n",
       "      <td>ITA</td>\n",
       "      <td>101</td>\n",
       "      <td>26</td>\n",
       "      <td>127</td>\n",
       "      <td>94</td>\n",
       "      <td>221</td>\n",
       "      <td>0</td>\n",
       "      <td>221</td>\n",
       "      <td>1</td>\n",
       "      <td>...</td>\n",
       "      <td>4324</td>\n",
       "      <td>NaN</td>\n",
       "      <td>NaN</td>\n",
       "      <td>NaN</td>\n",
       "      <td>NaN</td>\n",
       "      <td>NaN</td>\n",
       "      <td>NaN</td>\n",
       "      <td>NaN</td>\n",
       "      <td>NaN</td>\n",
       "      <td>NaN</td>\n",
       "    </tr>\n",
       "    <tr>\n",
       "      <th>1</th>\n",
       "      <td>2020-02-25T18:00:00</td>\n",
       "      <td>ITA</td>\n",
       "      <td>114</td>\n",
       "      <td>35</td>\n",
       "      <td>150</td>\n",
       "      <td>162</td>\n",
       "      <td>311</td>\n",
       "      <td>90</td>\n",
       "      <td>93</td>\n",
       "      <td>1</td>\n",
       "      <td>...</td>\n",
       "      <td>8623</td>\n",
       "      <td>NaN</td>\n",
       "      <td>NaN</td>\n",
       "      <td>NaN</td>\n",
       "      <td>NaN</td>\n",
       "      <td>NaN</td>\n",
       "      <td>NaN</td>\n",
       "      <td>NaN</td>\n",
       "      <td>NaN</td>\n",
       "      <td>NaN</td>\n",
       "    </tr>\n",
       "    <tr>\n",
       "      <th>2</th>\n",
       "      <td>2020-02-26T18:00:00</td>\n",
       "      <td>ITA</td>\n",
       "      <td>128</td>\n",
       "      <td>36</td>\n",
       "      <td>164</td>\n",
       "      <td>221</td>\n",
       "      <td>385</td>\n",
       "      <td>74</td>\n",
       "      <td>78</td>\n",
       "      <td>3</td>\n",
       "      <td>...</td>\n",
       "      <td>9587</td>\n",
       "      <td>NaN</td>\n",
       "      <td>NaN</td>\n",
       "      <td>NaN</td>\n",
       "      <td>NaN</td>\n",
       "      <td>NaN</td>\n",
       "      <td>NaN</td>\n",
       "      <td>NaN</td>\n",
       "      <td>NaN</td>\n",
       "      <td>NaN</td>\n",
       "    </tr>\n",
       "    <tr>\n",
       "      <th>3</th>\n",
       "      <td>2020-02-27T18:00:00</td>\n",
       "      <td>ITA</td>\n",
       "      <td>248</td>\n",
       "      <td>56</td>\n",
       "      <td>304</td>\n",
       "      <td>284</td>\n",
       "      <td>588</td>\n",
       "      <td>203</td>\n",
       "      <td>250</td>\n",
       "      <td>45</td>\n",
       "      <td>...</td>\n",
       "      <td>12014</td>\n",
       "      <td>NaN</td>\n",
       "      <td>NaN</td>\n",
       "      <td>NaN</td>\n",
       "      <td>NaN</td>\n",
       "      <td>NaN</td>\n",
       "      <td>NaN</td>\n",
       "      <td>NaN</td>\n",
       "      <td>NaN</td>\n",
       "      <td>NaN</td>\n",
       "    </tr>\n",
       "    <tr>\n",
       "      <th>4</th>\n",
       "      <td>2020-02-28T18:00:00</td>\n",
       "      <td>ITA</td>\n",
       "      <td>345</td>\n",
       "      <td>64</td>\n",
       "      <td>409</td>\n",
       "      <td>412</td>\n",
       "      <td>821</td>\n",
       "      <td>233</td>\n",
       "      <td>238</td>\n",
       "      <td>46</td>\n",
       "      <td>...</td>\n",
       "      <td>15695</td>\n",
       "      <td>NaN</td>\n",
       "      <td>NaN</td>\n",
       "      <td>NaN</td>\n",
       "      <td>NaN</td>\n",
       "      <td>NaN</td>\n",
       "      <td>NaN</td>\n",
       "      <td>NaN</td>\n",
       "      <td>NaN</td>\n",
       "      <td>NaN</td>\n",
       "    </tr>\n",
       "  </tbody>\n",
       "</table>\n",
       "<p>5 rows × 24 columns</p>\n",
       "</div>"
      ],
      "text/plain": [
       "                  data stato  ricoverati_con_sintomi  terapia_intensiva  \\\n",
       "0  2020-02-24T18:00:00   ITA                     101                 26   \n",
       "1  2020-02-25T18:00:00   ITA                     114                 35   \n",
       "2  2020-02-26T18:00:00   ITA                     128                 36   \n",
       "3  2020-02-27T18:00:00   ITA                     248                 56   \n",
       "4  2020-02-28T18:00:00   ITA                     345                 64   \n",
       "\n",
       "   totale_ospedalizzati  isolamento_domiciliare  totale_positivi  \\\n",
       "0                   127                      94              221   \n",
       "1                   150                     162              311   \n",
       "2                   164                     221              385   \n",
       "3                   304                     284              588   \n",
       "4                   409                     412              821   \n",
       "\n",
       "   variazione_totale_positivi  nuovi_positivi  dimessi_guariti  ...  tamponi  \\\n",
       "0                           0             221                1  ...     4324   \n",
       "1                          90              93                1  ...     8623   \n",
       "2                          74              78                3  ...     9587   \n",
       "3                         203             250               45  ...    12014   \n",
       "4                         233             238               46  ...    15695   \n",
       "\n",
       "   casi_testati  note  ingressi_terapia_intensiva  note_test  note_casi  \\\n",
       "0           NaN   NaN                         NaN        NaN        NaN   \n",
       "1           NaN   NaN                         NaN        NaN        NaN   \n",
       "2           NaN   NaN                         NaN        NaN        NaN   \n",
       "3           NaN   NaN                         NaN        NaN        NaN   \n",
       "4           NaN   NaN                         NaN        NaN        NaN   \n",
       "\n",
       "  totale_positivi_test_molecolare  totale_positivi_test_antigenico_rapido  \\\n",
       "0                             NaN                                     NaN   \n",
       "1                             NaN                                     NaN   \n",
       "2                             NaN                                     NaN   \n",
       "3                             NaN                                     NaN   \n",
       "4                             NaN                                     NaN   \n",
       "\n",
       "   tamponi_test_molecolare  tamponi_test_antigenico_rapido  \n",
       "0                      NaN                             NaN  \n",
       "1                      NaN                             NaN  \n",
       "2                      NaN                             NaN  \n",
       "3                      NaN                             NaN  \n",
       "4                      NaN                             NaN  \n",
       "\n",
       "[5 rows x 24 columns]"
      ]
     },
     "execution_count": 3,
     "metadata": {},
     "output_type": "execute_result"
    }
   ],
   "source": [
    "df_IT.head()"
   ]
  },
  {
   "cell_type": "code",
   "execution_count": 4,
   "id": "575843b1",
   "metadata": {},
   "outputs": [
    {
     "data": {
      "text/plain": [
       "Index(['data', 'stato', 'ricoverati_con_sintomi', 'terapia_intensiva',\n",
       "       'totale_ospedalizzati', 'isolamento_domiciliare', 'totale_positivi',\n",
       "       'variazione_totale_positivi', 'nuovi_positivi', 'dimessi_guariti',\n",
       "       'deceduti', 'casi_da_sospetto_diagnostico', 'casi_da_screening',\n",
       "       'totale_casi', 'tamponi', 'casi_testati', 'note',\n",
       "       'ingressi_terapia_intensiva', 'note_test', 'note_casi',\n",
       "       'totale_positivi_test_molecolare',\n",
       "       'totale_positivi_test_antigenico_rapido', 'tamponi_test_molecolare',\n",
       "       'tamponi_test_antigenico_rapido'],\n",
       "      dtype='object')"
      ]
     },
     "execution_count": 4,
     "metadata": {},
     "output_type": "execute_result"
    }
   ],
   "source": [
    "df_IT.index = pd.to_datetime(df_IT['data'])\r\n",
    "\r\n",
    "df_IT.columns"
   ]
  },
  {
   "cell_type": "markdown",
   "id": "837ad6c2",
   "metadata": {},
   "source": [
    "### Istituto Superiore di Sanità"
   ]
  },
  {
   "cell_type": "code",
   "execution_count": 5,
   "id": "65b795a4",
   "metadata": {},
   "outputs": [],
   "source": [
    "df_assoluti = pd.read_csv('../dati/dati_ISS_complessivi.csv', sep=';')\r\n",
    "\r\n",
    "# ricava i tassi, dividendo per la popolazione vaccinati e non vaccinata\r\n",
    "tassi = (7/30)*10**5*np.transpose([df_assoluti['casi non vaccinati']/df_assoluti['non vaccinati'],\r\n",
    "         df_assoluti['casi vaccinati']/df_assoluti['vaccinati completo'],                  \r\n",
    "         df_assoluti['decessi non vaccinati']/df_assoluti['non vaccinati'],\r\n",
    "         df_assoluti['decessi vaccinati']/df_assoluti['vaccinati completo']])\r\n",
    "\r\n",
    "df_tassi = pd.DataFrame(tassi)\r\n",
    "\r\n",
    "df_tassi.columns = ['Casi, non vaccinati',\r\n",
    "                    'Casi, vaccinati',\r\n",
    "                    'Deceduti, non vaccinati',\r\n",
    "                    'Deceduti, vaccinati']\r\n",
    "\r\n",
    "df_tassi.index = pd.to_datetime(df_assoluti['data'], format='%Y/%m/%d')\r\n",
    "df_tassi = df_tassi.iloc[::-1]\r\n",
    "\r\n",
    "casi_2021_vacc = np.array(df_tassi['Casi, vaccinati'])\r\n",
    "casi_2021_novacc = np.array(df_tassi['Casi, non vaccinati'])\r\n",
    "dec_2021_vacc = np.array(df_tassi['Deceduti, vaccinati'])\r\n",
    "dec_2021_novacc = np.array(df_tassi['Deceduti, non vaccinati'])\r\n",
    "\r\n",
    "xgrid_2021 = np.arange(0, 7*len(casi_2021_vacc), 7)"
   ]
  },
  {
   "cell_type": "markdown",
   "id": "5e11c703",
   "metadata": {},
   "source": [
    "# Andamento curve epidemiche"
   ]
  },
  {
   "cell_type": "markdown",
   "id": "bbef103b",
   "metadata": {},
   "source": [
    "### Casi e decessi 2020"
   ]
  },
  {
   "cell_type": "code",
   "execution_count": 6,
   "id": "777fd4ec",
   "metadata": {},
   "outputs": [],
   "source": [
    "abitanti_over12 = 540*10**5\r\n",
    "\r\n",
    "mask_2020 = (df_IT.index >= '2020-06-15') & (df_IT.index <= '2020-12-31')\r\n",
    "df_2020 = df_IT[mask_2020]\r\n",
    "df_2020 = df_2020[['totale_casi', 'deceduti']].diff().rolling(window=30).mean()\r\n",
    "df_2020 = df_2020*7/(abitanti_over12/(10**5))\r\n",
    "df_2020.columns = ['casi', 'decessi']\r\n",
    "\r\n",
    "casi_2020 = np.array(df_2020['casi'])[30:]\r\n",
    "dec_2020 = np.array(df_2020['decessi'])[30:]\r\n",
    "\r\n",
    "xgrid_2020 = np.arange(0, len(casi_2020))\r\n",
    "x_label1 = np.arange(15, 170, 30)\r\n",
    "x_label2 = ['Ago', 'Set', 'Ott', 'Nov', 'Dic', 'Gen']"
   ]
  },
  {
   "cell_type": "markdown",
   "id": "c39bb335",
   "metadata": {},
   "source": [
    "### Casi e decessi 2021"
   ]
  },
  {
   "cell_type": "code",
   "execution_count": 7,
   "id": "d76d224f-5e18-447f-9d43-283b394b4e8f",
   "metadata": {},
   "outputs": [
    {
     "name": "stdout",
     "output_type": "stream",
     "text": [
      "watermark fontsize: 15, angle:-23.63\n"
     ]
    },
    {
     "data": {
      "image/png": "[encoded data removed]",
      "text/plain": [
       "<Figure size 576x252 with 2 Axes>"
      ]
     },
     "metadata": {},
     "output_type": "display_data"
    }
   ],
   "source": [
    "fig = plt.figure(figsize=(8, 3.5))\n",
    "plt.subplot(1, 2, 1)\n",
    "plt.plot(xgrid_2020, casi_2020, label='2020')\n",
    "plt.plot(xgrid_2021, casi_2021_vacc, label='2021 (vaccinati)', color='green')\n",
    "plt.plot(xgrid_2021, casi_2021_novacc, label='2021 (non vaccinati)', color='red')\n",
    "plt.xticks(x_label1, x_label2)\n",
    "plt.title('Casi settimanali (media mobile 30 gg)')\n",
    "plt.ylabel('Ogni 100.000 persone per ciascun gruppo')\n",
    "plt.legend()\n",
    "plt.xlim(0, 165)\n",
    "plt.grid()  \n",
    "\n",
    "plt.subplot(1, 2, 2)\n",
    "plt.plot(xgrid_2020, dec_2020, label='2020')\n",
    "plt.plot(xgrid_2021, dec_2021_vacc, label='2021 (vaccinati)', color='green')\n",
    "plt.plot(xgrid_2021, dec_2021_novacc, label='2021 (non vaccinati)', color='red')\n",
    "plt.xticks(x_label1, x_label2)\n",
    "plt.title('Decessi settimanali (media mobile 30 gg)')\n",
    "plt.ylabel('Ogni 100.000 persone per ciascun gruppo')\n",
    "plt.legend()\n",
    "plt.xlim(0, 165)\n",
    "plt.grid()\n",
    "\n",
    "# add watermarks\n",
    "ax = plt.gca()\n",
    "add_watermark(fig, ax.xaxis.label.get_fontsize())\n",
    "\n",
    "plt.tight_layout()\n",
    "plt.savefig('../risultati/confrontro_2020_2021.png', dpi=300, bbox_inches=\"tight\")\n",
    "plt.show()"
   ]
  },
  {
   "cell_type": "code",
   "execution_count": null,
   "id": "cc8cd401",
   "metadata": {},
   "outputs": [],
   "source": []
  }
 ],
 "metadata": {
  "interpreter": {
   "hash": "04635d289a519a1410467dd0afb0db42f9184808881ca68b2eb5a687a20a5a94"
  },
  "kernelspec": {
   "display_name": "Python 3",
   "language": "python",
   "name": "python3"
  },
  "language_info": {
   "codemirror_mode": {
    "name": "ipython",
    "version": 3
   },
   "file_extension": ".py",
   "mimetype": "text/x-python",
   "name": "python",
   "nbconvert_exporter": "python",
   "pygments_lexer": "ipython3",
   "version": "3.8.8"
  }
 },
 "nbformat": 4,
 "nbformat_minor": 5
}
